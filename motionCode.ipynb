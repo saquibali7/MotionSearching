{
  "nbformat": 4,
  "nbformat_minor": 0,
  "metadata": {
    "colab": {
      "provenance": [],
      "authorship_tag": "ABX9TyOWH8qOOXYdGRARVcPrZCag",
      "include_colab_link": true
    },
    "kernelspec": {
      "name": "python3",
      "display_name": "Python 3"
    },
    "language_info": {
      "name": "python"
    }
  },
  "cells": [
    {
      "cell_type": "markdown",
      "metadata": {
        "id": "view-in-github",
        "colab_type": "text"
      },
      "source": [
        "<a href=\"https://colab.research.google.com/github/saquibali7/MotionSearching/blob/main/motionCode.ipynb\" target=\"_parent\"><img src=\"https://colab.research.google.com/assets/colab-badge.svg\" alt=\"Open In Colab\"/></a>"
      ]
    },
    {
      "cell_type": "code",
      "execution_count": 1,
      "metadata": {
        "id": "9XecCJqK1xDH"
      },
      "outputs": [],
      "source": [
        "import os\n",
        "import numpy as np\n",
        "import pandas as pd\n",
        "import matplotlib.pyplot as plt\n",
        "\n",
        "\n",
        "from sklearn.neighbors import KDTree"
      ]
    },
    {
      "cell_type": "code",
      "source": [
        "from sklearn.neighbors import KDTree"
      ],
      "metadata": {
        "id": "h-7ey9Zd18Up"
      },
      "execution_count": 2,
      "outputs": []
    },
    {
      "cell_type": "code",
      "source": [
        "rng = np.random.RandomState(0)\n",
        "X = rng.random_sample((10, 3))\n",
        "tree = KDTree(X, leaf_size=2)   \n",
        "a=X[3:4]\n",
        "dist, ind = tree.query(a, k=3)      \n",
        "print(ind)"
      ],
      "metadata": {
        "colab": {
          "base_uri": "https://localhost:8080/"
        },
        "id": "Cm61vlV-2BDo",
        "outputId": "9fe5e9f0-4b14-408f-8635-abc0c3802bd2"
      },
      "execution_count": 3,
      "outputs": [
        {
          "output_type": "stream",
          "name": "stdout",
          "text": [
            "[[3 0 1]]\n"
          ]
        }
      ]
    },
    {
      "cell_type": "code",
      "source": [
        "from google.colab import drive\n",
        "drive.mount('/content/drive')"
      ],
      "metadata": {
        "colab": {
          "base_uri": "https://localhost:8080/"
        },
        "id": "aR2M6FSzykoS",
        "outputId": "200c89b8-0274-4c0d-a534-a6505f7fde84"
      },
      "execution_count": 4,
      "outputs": [
        {
          "output_type": "stream",
          "name": "stdout",
          "text": [
            "Mounted at /content/drive\n"
          ]
        }
      ]
    },
    {
      "cell_type": "code",
      "source": [
        "imu_file = \"/content/drive/MyDrive/INSAR_dataset/imu.csv\"\n",
        "sync_file = \"/content/drive/MyDrive/INSAR_dataset/sync info.xlsx\"\n",
        "annotation_file = \"/content/drive/MyDrive/INSAR_dataset/dyad_1_conversation_1_annohead.txt\"\n",
        "coversation1_offset = 2.4987025\n",
        "\n"
      ],
      "metadata": {
        "id": "cM2YQB_gyol2"
      },
      "execution_count": 100,
      "outputs": []
    },
    {
      "cell_type": "code",
      "source": [
        "df_sync = pd.read_excel(sync_file)"
      ],
      "metadata": {
        "id": "S-_qCqZZqnLa"
      },
      "execution_count": 101,
      "outputs": []
    },
    {
      "cell_type": "code",
      "source": [
        "with open(annotation_file) as file:\n",
        "    for item in file:\n",
        "        print(item)\n",
        "        break"
      ],
      "metadata": {
        "colab": {
          "base_uri": "https://localhost:8080/"
        },
        "id": "I_-ljXojXo0e",
        "outputId": "548830bc-fb2b-44a0-cc6c-d7b5b63b073f"
      },
      "execution_count": 102,
      "outputs": [
        {
          "output_type": "stream",
          "name": "stdout",
          "text": [
            "headmovement_A\t\t00:00:07.680\t7.68\t00:00:08.100\t8.1\t00:00:00.420\t0.42\tn1\n",
            "\n"
          ]
        }
      ]
    },
    {
      "cell_type": "code",
      "source": [
        "df_imu = pd.read_csv(imu_file)"
      ],
      "metadata": {
        "id": "SWLDXXwty9WR"
      },
      "execution_count": 103,
      "outputs": []
    },
    {
      "cell_type": "code",
      "source": [
        "df_imu.head()"
      ],
      "metadata": {
        "colab": {
          "base_uri": "https://localhost:8080/",
          "height": 548
        },
        "id": "VrdFGlAszNHv",
        "outputId": "f7f3f1e5-bf40-4696-ebda-eeae3804d5dc"
      },
      "execution_count": 104,
      "outputs": [
        {
          "output_type": "execute_result",
          "data": {
            "text/plain": [
              "                             section id                          recording id  \\\n",
              "0  7ef9f1b3-b26f-423b-972b-ce1b29657518  1973fcc6-4aed-4496-b9be-7c7d259aebdc   \n",
              "1  7ef9f1b3-b26f-423b-972b-ce1b29657518  1973fcc6-4aed-4496-b9be-7c7d259aebdc   \n",
              "2  7ef9f1b3-b26f-423b-972b-ce1b29657518  1973fcc6-4aed-4496-b9be-7c7d259aebdc   \n",
              "3  7ef9f1b3-b26f-423b-972b-ce1b29657518  1973fcc6-4aed-4496-b9be-7c7d259aebdc   \n",
              "4  7ef9f1b3-b26f-423b-972b-ce1b29657518  1973fcc6-4aed-4496-b9be-7c7d259aebdc   \n",
              "\n",
              "        timestamp [ns]  gyro x [deg/s]  gyro y [deg/s]  gyro z [deg/s]  \\\n",
              "0  1677493941387468567       -2.560976        0.853659        2.621951   \n",
              "1  1677493941392408567       -2.378049        1.158537        2.865854   \n",
              "2  1677493941397348567       -2.378049        1.402439        3.109756   \n",
              "3  1677493941402288567       -2.439024        1.585366        3.536585   \n",
              "4  1677493941407228567       -2.560976        1.768293        3.597561   \n",
              "\n",
              "   acceleration x [G]  acceleration y [G]  acceleration z [G]      roll  \\\n",
              "0            0.053711           -1.003540            0.058716  6.981402   \n",
              "1            0.057678           -0.995605            0.063965  6.962544   \n",
              "2            0.054199           -0.993164            0.066711  6.946454   \n",
              "3            0.055176           -0.994629            0.070984  6.931058   \n",
              "4            0.047546           -0.993774            0.072876  6.919966   \n",
              "\n",
              "       pitch  yaw  rotation vector w  rotation vector x  rotation vector y  \\\n",
              "0  89.560144  NaN                NaN                NaN                NaN   \n",
              "1  89.121316  NaN                NaN                NaN                NaN   \n",
              "2  88.682452  NaN                NaN                NaN                NaN   \n",
              "3  88.243375  NaN                NaN                NaN                NaN   \n",
              "4  87.803621  NaN                NaN                NaN                NaN   \n",
              "\n",
              "   rotation vector z  \n",
              "0                NaN  \n",
              "1                NaN  \n",
              "2                NaN  \n",
              "3                NaN  \n",
              "4                NaN  "
            ],
            "text/html": [
              "\n",
              "  <div id=\"df-ba4c2360-0600-41cf-add2-660545565bd2\">\n",
              "    <div class=\"colab-df-container\">\n",
              "      <div>\n",
              "<style scoped>\n",
              "    .dataframe tbody tr th:only-of-type {\n",
              "        vertical-align: middle;\n",
              "    }\n",
              "\n",
              "    .dataframe tbody tr th {\n",
              "        vertical-align: top;\n",
              "    }\n",
              "\n",
              "    .dataframe thead th {\n",
              "        text-align: right;\n",
              "    }\n",
              "</style>\n",
              "<table border=\"1\" class=\"dataframe\">\n",
              "  <thead>\n",
              "    <tr style=\"text-align: right;\">\n",
              "      <th></th>\n",
              "      <th>section id</th>\n",
              "      <th>recording id</th>\n",
              "      <th>timestamp [ns]</th>\n",
              "      <th>gyro x [deg/s]</th>\n",
              "      <th>gyro y [deg/s]</th>\n",
              "      <th>gyro z [deg/s]</th>\n",
              "      <th>acceleration x [G]</th>\n",
              "      <th>acceleration y [G]</th>\n",
              "      <th>acceleration z [G]</th>\n",
              "      <th>roll</th>\n",
              "      <th>pitch</th>\n",
              "      <th>yaw</th>\n",
              "      <th>rotation vector w</th>\n",
              "      <th>rotation vector x</th>\n",
              "      <th>rotation vector y</th>\n",
              "      <th>rotation vector z</th>\n",
              "    </tr>\n",
              "  </thead>\n",
              "  <tbody>\n",
              "    <tr>\n",
              "      <th>0</th>\n",
              "      <td>7ef9f1b3-b26f-423b-972b-ce1b29657518</td>\n",
              "      <td>1973fcc6-4aed-4496-b9be-7c7d259aebdc</td>\n",
              "      <td>1677493941387468567</td>\n",
              "      <td>-2.560976</td>\n",
              "      <td>0.853659</td>\n",
              "      <td>2.621951</td>\n",
              "      <td>0.053711</td>\n",
              "      <td>-1.003540</td>\n",
              "      <td>0.058716</td>\n",
              "      <td>6.981402</td>\n",
              "      <td>89.560144</td>\n",
              "      <td>NaN</td>\n",
              "      <td>NaN</td>\n",
              "      <td>NaN</td>\n",
              "      <td>NaN</td>\n",
              "      <td>NaN</td>\n",
              "    </tr>\n",
              "    <tr>\n",
              "      <th>1</th>\n",
              "      <td>7ef9f1b3-b26f-423b-972b-ce1b29657518</td>\n",
              "      <td>1973fcc6-4aed-4496-b9be-7c7d259aebdc</td>\n",
              "      <td>1677493941392408567</td>\n",
              "      <td>-2.378049</td>\n",
              "      <td>1.158537</td>\n",
              "      <td>2.865854</td>\n",
              "      <td>0.057678</td>\n",
              "      <td>-0.995605</td>\n",
              "      <td>0.063965</td>\n",
              "      <td>6.962544</td>\n",
              "      <td>89.121316</td>\n",
              "      <td>NaN</td>\n",
              "      <td>NaN</td>\n",
              "      <td>NaN</td>\n",
              "      <td>NaN</td>\n",
              "      <td>NaN</td>\n",
              "    </tr>\n",
              "    <tr>\n",
              "      <th>2</th>\n",
              "      <td>7ef9f1b3-b26f-423b-972b-ce1b29657518</td>\n",
              "      <td>1973fcc6-4aed-4496-b9be-7c7d259aebdc</td>\n",
              "      <td>1677493941397348567</td>\n",
              "      <td>-2.378049</td>\n",
              "      <td>1.402439</td>\n",
              "      <td>3.109756</td>\n",
              "      <td>0.054199</td>\n",
              "      <td>-0.993164</td>\n",
              "      <td>0.066711</td>\n",
              "      <td>6.946454</td>\n",
              "      <td>88.682452</td>\n",
              "      <td>NaN</td>\n",
              "      <td>NaN</td>\n",
              "      <td>NaN</td>\n",
              "      <td>NaN</td>\n",
              "      <td>NaN</td>\n",
              "    </tr>\n",
              "    <tr>\n",
              "      <th>3</th>\n",
              "      <td>7ef9f1b3-b26f-423b-972b-ce1b29657518</td>\n",
              "      <td>1973fcc6-4aed-4496-b9be-7c7d259aebdc</td>\n",
              "      <td>1677493941402288567</td>\n",
              "      <td>-2.439024</td>\n",
              "      <td>1.585366</td>\n",
              "      <td>3.536585</td>\n",
              "      <td>0.055176</td>\n",
              "      <td>-0.994629</td>\n",
              "      <td>0.070984</td>\n",
              "      <td>6.931058</td>\n",
              "      <td>88.243375</td>\n",
              "      <td>NaN</td>\n",
              "      <td>NaN</td>\n",
              "      <td>NaN</td>\n",
              "      <td>NaN</td>\n",
              "      <td>NaN</td>\n",
              "    </tr>\n",
              "    <tr>\n",
              "      <th>4</th>\n",
              "      <td>7ef9f1b3-b26f-423b-972b-ce1b29657518</td>\n",
              "      <td>1973fcc6-4aed-4496-b9be-7c7d259aebdc</td>\n",
              "      <td>1677493941407228567</td>\n",
              "      <td>-2.560976</td>\n",
              "      <td>1.768293</td>\n",
              "      <td>3.597561</td>\n",
              "      <td>0.047546</td>\n",
              "      <td>-0.993774</td>\n",
              "      <td>0.072876</td>\n",
              "      <td>6.919966</td>\n",
              "      <td>87.803621</td>\n",
              "      <td>NaN</td>\n",
              "      <td>NaN</td>\n",
              "      <td>NaN</td>\n",
              "      <td>NaN</td>\n",
              "      <td>NaN</td>\n",
              "    </tr>\n",
              "  </tbody>\n",
              "</table>\n",
              "</div>\n",
              "      <button class=\"colab-df-convert\" onclick=\"convertToInteractive('df-ba4c2360-0600-41cf-add2-660545565bd2')\"\n",
              "              title=\"Convert this dataframe to an interactive table.\"\n",
              "              style=\"display:none;\">\n",
              "        \n",
              "  <svg xmlns=\"http://www.w3.org/2000/svg\" height=\"24px\"viewBox=\"0 0 24 24\"\n",
              "       width=\"24px\">\n",
              "    <path d=\"M0 0h24v24H0V0z\" fill=\"none\"/>\n",
              "    <path d=\"M18.56 5.44l.94 2.06.94-2.06 2.06-.94-2.06-.94-.94-2.06-.94 2.06-2.06.94zm-11 1L8.5 8.5l.94-2.06 2.06-.94-2.06-.94L8.5 2.5l-.94 2.06-2.06.94zm10 10l.94 2.06.94-2.06 2.06-.94-2.06-.94-.94-2.06-.94 2.06-2.06.94z\"/><path d=\"M17.41 7.96l-1.37-1.37c-.4-.4-.92-.59-1.43-.59-.52 0-1.04.2-1.43.59L10.3 9.45l-7.72 7.72c-.78.78-.78 2.05 0 2.83L4 21.41c.39.39.9.59 1.41.59.51 0 1.02-.2 1.41-.59l7.78-7.78 2.81-2.81c.8-.78.8-2.07 0-2.86zM5.41 20L4 18.59l7.72-7.72 1.47 1.35L5.41 20z\"/>\n",
              "  </svg>\n",
              "      </button>\n",
              "      \n",
              "  <style>\n",
              "    .colab-df-container {\n",
              "      display:flex;\n",
              "      flex-wrap:wrap;\n",
              "      gap: 12px;\n",
              "    }\n",
              "\n",
              "    .colab-df-convert {\n",
              "      background-color: #E8F0FE;\n",
              "      border: none;\n",
              "      border-radius: 50%;\n",
              "      cursor: pointer;\n",
              "      display: none;\n",
              "      fill: #1967D2;\n",
              "      height: 32px;\n",
              "      padding: 0 0 0 0;\n",
              "      width: 32px;\n",
              "    }\n",
              "\n",
              "    .colab-df-convert:hover {\n",
              "      background-color: #E2EBFA;\n",
              "      box-shadow: 0px 1px 2px rgba(60, 64, 67, 0.3), 0px 1px 3px 1px rgba(60, 64, 67, 0.15);\n",
              "      fill: #174EA6;\n",
              "    }\n",
              "\n",
              "    [theme=dark] .colab-df-convert {\n",
              "      background-color: #3B4455;\n",
              "      fill: #D2E3FC;\n",
              "    }\n",
              "\n",
              "    [theme=dark] .colab-df-convert:hover {\n",
              "      background-color: #434B5C;\n",
              "      box-shadow: 0px 1px 3px 1px rgba(0, 0, 0, 0.15);\n",
              "      filter: drop-shadow(0px 1px 2px rgba(0, 0, 0, 0.3));\n",
              "      fill: #FFFFFF;\n",
              "    }\n",
              "  </style>\n",
              "\n",
              "      <script>\n",
              "        const buttonEl =\n",
              "          document.querySelector('#df-ba4c2360-0600-41cf-add2-660545565bd2 button.colab-df-convert');\n",
              "        buttonEl.style.display =\n",
              "          google.colab.kernel.accessAllowed ? 'block' : 'none';\n",
              "\n",
              "        async function convertToInteractive(key) {\n",
              "          const element = document.querySelector('#df-ba4c2360-0600-41cf-add2-660545565bd2');\n",
              "          const dataTable =\n",
              "            await google.colab.kernel.invokeFunction('convertToInteractive',\n",
              "                                                     [key], {});\n",
              "          if (!dataTable) return;\n",
              "\n",
              "          const docLinkHtml = 'Like what you see? Visit the ' +\n",
              "            '<a target=\"_blank\" href=https://colab.research.google.com/notebooks/data_table.ipynb>data table notebook</a>'\n",
              "            + ' to learn more about interactive tables.';\n",
              "          element.innerHTML = '';\n",
              "          dataTable['output_type'] = 'display_data';\n",
              "          await google.colab.output.renderOutput(dataTable, element);\n",
              "          const docLink = document.createElement('div');\n",
              "          docLink.innerHTML = docLinkHtml;\n",
              "          element.appendChild(docLink);\n",
              "        }\n",
              "      </script>\n",
              "    </div>\n",
              "  </div>\n",
              "  "
            ]
          },
          "metadata": {},
          "execution_count": 104
        }
      ]
    },
    {
      "cell_type": "code",
      "source": [
        "df_imu_main = df_imu.drop(['section id', 'recording id'], axis=1)"
      ],
      "metadata": {
        "id": "svExa1U3VQ5-"
      },
      "execution_count": 105,
      "outputs": []
    },
    {
      "cell_type": "code",
      "source": [
        "df_imu_main.head()"
      ],
      "metadata": {
        "colab": {
          "base_uri": "https://localhost:8080/",
          "height": 267
        },
        "id": "6HdqWRe3dRz1",
        "outputId": "957b0937-45d9-4720-ce01-4b2cad3238c8"
      },
      "execution_count": 106,
      "outputs": [
        {
          "output_type": "execute_result",
          "data": {
            "text/plain": [
              "        timestamp [ns]  gyro x [deg/s]  gyro y [deg/s]  gyro z [deg/s]  \\\n",
              "0  1677493941387468567       -2.560976        0.853659        2.621951   \n",
              "1  1677493941392408567       -2.378049        1.158537        2.865854   \n",
              "2  1677493941397348567       -2.378049        1.402439        3.109756   \n",
              "3  1677493941402288567       -2.439024        1.585366        3.536585   \n",
              "4  1677493941407228567       -2.560976        1.768293        3.597561   \n",
              "\n",
              "   acceleration x [G]  acceleration y [G]  acceleration z [G]      roll  \\\n",
              "0            0.053711           -1.003540            0.058716  6.981402   \n",
              "1            0.057678           -0.995605            0.063965  6.962544   \n",
              "2            0.054199           -0.993164            0.066711  6.946454   \n",
              "3            0.055176           -0.994629            0.070984  6.931058   \n",
              "4            0.047546           -0.993774            0.072876  6.919966   \n",
              "\n",
              "       pitch  yaw  rotation vector w  rotation vector x  rotation vector y  \\\n",
              "0  89.560144  NaN                NaN                NaN                NaN   \n",
              "1  89.121316  NaN                NaN                NaN                NaN   \n",
              "2  88.682452  NaN                NaN                NaN                NaN   \n",
              "3  88.243375  NaN                NaN                NaN                NaN   \n",
              "4  87.803621  NaN                NaN                NaN                NaN   \n",
              "\n",
              "   rotation vector z  \n",
              "0                NaN  \n",
              "1                NaN  \n",
              "2                NaN  \n",
              "3                NaN  \n",
              "4                NaN  "
            ],
            "text/html": [
              "\n",
              "  <div id=\"df-f92d342d-7f37-4984-8620-5ca32512b3f3\">\n",
              "    <div class=\"colab-df-container\">\n",
              "      <div>\n",
              "<style scoped>\n",
              "    .dataframe tbody tr th:only-of-type {\n",
              "        vertical-align: middle;\n",
              "    }\n",
              "\n",
              "    .dataframe tbody tr th {\n",
              "        vertical-align: top;\n",
              "    }\n",
              "\n",
              "    .dataframe thead th {\n",
              "        text-align: right;\n",
              "    }\n",
              "</style>\n",
              "<table border=\"1\" class=\"dataframe\">\n",
              "  <thead>\n",
              "    <tr style=\"text-align: right;\">\n",
              "      <th></th>\n",
              "      <th>timestamp [ns]</th>\n",
              "      <th>gyro x [deg/s]</th>\n",
              "      <th>gyro y [deg/s]</th>\n",
              "      <th>gyro z [deg/s]</th>\n",
              "      <th>acceleration x [G]</th>\n",
              "      <th>acceleration y [G]</th>\n",
              "      <th>acceleration z [G]</th>\n",
              "      <th>roll</th>\n",
              "      <th>pitch</th>\n",
              "      <th>yaw</th>\n",
              "      <th>rotation vector w</th>\n",
              "      <th>rotation vector x</th>\n",
              "      <th>rotation vector y</th>\n",
              "      <th>rotation vector z</th>\n",
              "    </tr>\n",
              "  </thead>\n",
              "  <tbody>\n",
              "    <tr>\n",
              "      <th>0</th>\n",
              "      <td>1677493941387468567</td>\n",
              "      <td>-2.560976</td>\n",
              "      <td>0.853659</td>\n",
              "      <td>2.621951</td>\n",
              "      <td>0.053711</td>\n",
              "      <td>-1.003540</td>\n",
              "      <td>0.058716</td>\n",
              "      <td>6.981402</td>\n",
              "      <td>89.560144</td>\n",
              "      <td>NaN</td>\n",
              "      <td>NaN</td>\n",
              "      <td>NaN</td>\n",
              "      <td>NaN</td>\n",
              "      <td>NaN</td>\n",
              "    </tr>\n",
              "    <tr>\n",
              "      <th>1</th>\n",
              "      <td>1677493941392408567</td>\n",
              "      <td>-2.378049</td>\n",
              "      <td>1.158537</td>\n",
              "      <td>2.865854</td>\n",
              "      <td>0.057678</td>\n",
              "      <td>-0.995605</td>\n",
              "      <td>0.063965</td>\n",
              "      <td>6.962544</td>\n",
              "      <td>89.121316</td>\n",
              "      <td>NaN</td>\n",
              "      <td>NaN</td>\n",
              "      <td>NaN</td>\n",
              "      <td>NaN</td>\n",
              "      <td>NaN</td>\n",
              "    </tr>\n",
              "    <tr>\n",
              "      <th>2</th>\n",
              "      <td>1677493941397348567</td>\n",
              "      <td>-2.378049</td>\n",
              "      <td>1.402439</td>\n",
              "      <td>3.109756</td>\n",
              "      <td>0.054199</td>\n",
              "      <td>-0.993164</td>\n",
              "      <td>0.066711</td>\n",
              "      <td>6.946454</td>\n",
              "      <td>88.682452</td>\n",
              "      <td>NaN</td>\n",
              "      <td>NaN</td>\n",
              "      <td>NaN</td>\n",
              "      <td>NaN</td>\n",
              "      <td>NaN</td>\n",
              "    </tr>\n",
              "    <tr>\n",
              "      <th>3</th>\n",
              "      <td>1677493941402288567</td>\n",
              "      <td>-2.439024</td>\n",
              "      <td>1.585366</td>\n",
              "      <td>3.536585</td>\n",
              "      <td>0.055176</td>\n",
              "      <td>-0.994629</td>\n",
              "      <td>0.070984</td>\n",
              "      <td>6.931058</td>\n",
              "      <td>88.243375</td>\n",
              "      <td>NaN</td>\n",
              "      <td>NaN</td>\n",
              "      <td>NaN</td>\n",
              "      <td>NaN</td>\n",
              "      <td>NaN</td>\n",
              "    </tr>\n",
              "    <tr>\n",
              "      <th>4</th>\n",
              "      <td>1677493941407228567</td>\n",
              "      <td>-2.560976</td>\n",
              "      <td>1.768293</td>\n",
              "      <td>3.597561</td>\n",
              "      <td>0.047546</td>\n",
              "      <td>-0.993774</td>\n",
              "      <td>0.072876</td>\n",
              "      <td>6.919966</td>\n",
              "      <td>87.803621</td>\n",
              "      <td>NaN</td>\n",
              "      <td>NaN</td>\n",
              "      <td>NaN</td>\n",
              "      <td>NaN</td>\n",
              "      <td>NaN</td>\n",
              "    </tr>\n",
              "  </tbody>\n",
              "</table>\n",
              "</div>\n",
              "      <button class=\"colab-df-convert\" onclick=\"convertToInteractive('df-f92d342d-7f37-4984-8620-5ca32512b3f3')\"\n",
              "              title=\"Convert this dataframe to an interactive table.\"\n",
              "              style=\"display:none;\">\n",
              "        \n",
              "  <svg xmlns=\"http://www.w3.org/2000/svg\" height=\"24px\"viewBox=\"0 0 24 24\"\n",
              "       width=\"24px\">\n",
              "    <path d=\"M0 0h24v24H0V0z\" fill=\"none\"/>\n",
              "    <path d=\"M18.56 5.44l.94 2.06.94-2.06 2.06-.94-2.06-.94-.94-2.06-.94 2.06-2.06.94zm-11 1L8.5 8.5l.94-2.06 2.06-.94-2.06-.94L8.5 2.5l-.94 2.06-2.06.94zm10 10l.94 2.06.94-2.06 2.06-.94-2.06-.94-.94-2.06-.94 2.06-2.06.94z\"/><path d=\"M17.41 7.96l-1.37-1.37c-.4-.4-.92-.59-1.43-.59-.52 0-1.04.2-1.43.59L10.3 9.45l-7.72 7.72c-.78.78-.78 2.05 0 2.83L4 21.41c.39.39.9.59 1.41.59.51 0 1.02-.2 1.41-.59l7.78-7.78 2.81-2.81c.8-.78.8-2.07 0-2.86zM5.41 20L4 18.59l7.72-7.72 1.47 1.35L5.41 20z\"/>\n",
              "  </svg>\n",
              "      </button>\n",
              "      \n",
              "  <style>\n",
              "    .colab-df-container {\n",
              "      display:flex;\n",
              "      flex-wrap:wrap;\n",
              "      gap: 12px;\n",
              "    }\n",
              "\n",
              "    .colab-df-convert {\n",
              "      background-color: #E8F0FE;\n",
              "      border: none;\n",
              "      border-radius: 50%;\n",
              "      cursor: pointer;\n",
              "      display: none;\n",
              "      fill: #1967D2;\n",
              "      height: 32px;\n",
              "      padding: 0 0 0 0;\n",
              "      width: 32px;\n",
              "    }\n",
              "\n",
              "    .colab-df-convert:hover {\n",
              "      background-color: #E2EBFA;\n",
              "      box-shadow: 0px 1px 2px rgba(60, 64, 67, 0.3), 0px 1px 3px 1px rgba(60, 64, 67, 0.15);\n",
              "      fill: #174EA6;\n",
              "    }\n",
              "\n",
              "    [theme=dark] .colab-df-convert {\n",
              "      background-color: #3B4455;\n",
              "      fill: #D2E3FC;\n",
              "    }\n",
              "\n",
              "    [theme=dark] .colab-df-convert:hover {\n",
              "      background-color: #434B5C;\n",
              "      box-shadow: 0px 1px 3px 1px rgba(0, 0, 0, 0.15);\n",
              "      filter: drop-shadow(0px 1px 2px rgba(0, 0, 0, 0.3));\n",
              "      fill: #FFFFFF;\n",
              "    }\n",
              "  </style>\n",
              "\n",
              "      <script>\n",
              "        const buttonEl =\n",
              "          document.querySelector('#df-f92d342d-7f37-4984-8620-5ca32512b3f3 button.colab-df-convert');\n",
              "        buttonEl.style.display =\n",
              "          google.colab.kernel.accessAllowed ? 'block' : 'none';\n",
              "\n",
              "        async function convertToInteractive(key) {\n",
              "          const element = document.querySelector('#df-f92d342d-7f37-4984-8620-5ca32512b3f3');\n",
              "          const dataTable =\n",
              "            await google.colab.kernel.invokeFunction('convertToInteractive',\n",
              "                                                     [key], {});\n",
              "          if (!dataTable) return;\n",
              "\n",
              "          const docLinkHtml = 'Like what you see? Visit the ' +\n",
              "            '<a target=\"_blank\" href=https://colab.research.google.com/notebooks/data_table.ipynb>data table notebook</a>'\n",
              "            + ' to learn more about interactive tables.';\n",
              "          element.innerHTML = '';\n",
              "          dataTable['output_type'] = 'display_data';\n",
              "          await google.colab.output.renderOutput(dataTable, element);\n",
              "          const docLink = document.createElement('div');\n",
              "          docLink.innerHTML = docLinkHtml;\n",
              "          element.appendChild(docLink);\n",
              "        }\n",
              "      </script>\n",
              "    </div>\n",
              "  </div>\n",
              "  "
            ]
          },
          "metadata": {},
          "execution_count": 106
        }
      ]
    },
    {
      "cell_type": "code",
      "source": [
        "imu_columns = list(df_imu_main.columns)"
      ],
      "metadata": {
        "id": "fI1sgBOxo69m"
      },
      "execution_count": 107,
      "outputs": []
    },
    {
      "cell_type": "code",
      "source": [
        "for i in range(len(imu_columns)):\n",
        "  if i!=0:\n",
        "    df_imu_main[imu_columns[i]]=(df_imu_main[imu_columns[i]]-df_imu_main[imu_columns[i]].mean())/abs(df_imu_main[imu_columns[i]].max())"
      ],
      "metadata": {
        "id": "eYhOe2x8pEFT"
      },
      "execution_count": 108,
      "outputs": []
    },
    {
      "cell_type": "code",
      "source": [
        "df_imu_main.head()"
      ],
      "metadata": {
        "id": "m8z9fEs0dewF",
        "outputId": "b109c1dd-5d9f-4df6-d0e0-358f5eb77687",
        "colab": {
          "base_uri": "https://localhost:8080/",
          "height": 267
        }
      },
      "execution_count": 109,
      "outputs": [
        {
          "output_type": "execute_result",
          "data": {
            "text/plain": [
              "        timestamp [ns]  gyro x [deg/s]  gyro y [deg/s]  gyro z [deg/s]  \\\n",
              "0  1677493941387468567       -0.013454        0.007549        0.009296   \n",
              "1  1677493941392408567       -0.012439        0.009696        0.011516   \n",
              "2  1677493941397348567       -0.012439        0.011413        0.013736   \n",
              "3  1677493941402288567       -0.012777        0.012701        0.017620   \n",
              "4  1677493941407228567       -0.013454        0.013989        0.018175   \n",
              "\n",
              "   acceleration x [G]  acceleration y [G]  acceleration z [G]      roll  \\\n",
              "0            0.111248           -0.014669            0.015147  0.025196   \n",
              "1            0.122328            0.000547            0.024578  0.024582   \n",
              "2            0.112611            0.005228            0.029511  0.024058   \n",
              "3            0.115340            0.002419            0.037189  0.023557   \n",
              "4            0.094029            0.004059            0.040588  0.023195   \n",
              "\n",
              "      pitch  yaw  rotation vector w  rotation vector x  rotation vector y  \\\n",
              "0  0.965037  NaN                NaN                NaN                NaN   \n",
              "1  0.960138  NaN                NaN                NaN                NaN   \n",
              "2  0.955237  NaN                NaN                NaN                NaN   \n",
              "3  0.950335  NaN                NaN                NaN                NaN   \n",
              "4  0.945425  NaN                NaN                NaN                NaN   \n",
              "\n",
              "   rotation vector z  \n",
              "0                NaN  \n",
              "1                NaN  \n",
              "2                NaN  \n",
              "3                NaN  \n",
              "4                NaN  "
            ],
            "text/html": [
              "\n",
              "  <div id=\"df-d39b342a-0149-4370-99bf-d742f9290aa1\">\n",
              "    <div class=\"colab-df-container\">\n",
              "      <div>\n",
              "<style scoped>\n",
              "    .dataframe tbody tr th:only-of-type {\n",
              "        vertical-align: middle;\n",
              "    }\n",
              "\n",
              "    .dataframe tbody tr th {\n",
              "        vertical-align: top;\n",
              "    }\n",
              "\n",
              "    .dataframe thead th {\n",
              "        text-align: right;\n",
              "    }\n",
              "</style>\n",
              "<table border=\"1\" class=\"dataframe\">\n",
              "  <thead>\n",
              "    <tr style=\"text-align: right;\">\n",
              "      <th></th>\n",
              "      <th>timestamp [ns]</th>\n",
              "      <th>gyro x [deg/s]</th>\n",
              "      <th>gyro y [deg/s]</th>\n",
              "      <th>gyro z [deg/s]</th>\n",
              "      <th>acceleration x [G]</th>\n",
              "      <th>acceleration y [G]</th>\n",
              "      <th>acceleration z [G]</th>\n",
              "      <th>roll</th>\n",
              "      <th>pitch</th>\n",
              "      <th>yaw</th>\n",
              "      <th>rotation vector w</th>\n",
              "      <th>rotation vector x</th>\n",
              "      <th>rotation vector y</th>\n",
              "      <th>rotation vector z</th>\n",
              "    </tr>\n",
              "  </thead>\n",
              "  <tbody>\n",
              "    <tr>\n",
              "      <th>0</th>\n",
              "      <td>1677493941387468567</td>\n",
              "      <td>-0.013454</td>\n",
              "      <td>0.007549</td>\n",
              "      <td>0.009296</td>\n",
              "      <td>0.111248</td>\n",
              "      <td>-0.014669</td>\n",
              "      <td>0.015147</td>\n",
              "      <td>0.025196</td>\n",
              "      <td>0.965037</td>\n",
              "      <td>NaN</td>\n",
              "      <td>NaN</td>\n",
              "      <td>NaN</td>\n",
              "      <td>NaN</td>\n",
              "      <td>NaN</td>\n",
              "    </tr>\n",
              "    <tr>\n",
              "      <th>1</th>\n",
              "      <td>1677493941392408567</td>\n",
              "      <td>-0.012439</td>\n",
              "      <td>0.009696</td>\n",
              "      <td>0.011516</td>\n",
              "      <td>0.122328</td>\n",
              "      <td>0.000547</td>\n",
              "      <td>0.024578</td>\n",
              "      <td>0.024582</td>\n",
              "      <td>0.960138</td>\n",
              "      <td>NaN</td>\n",
              "      <td>NaN</td>\n",
              "      <td>NaN</td>\n",
              "      <td>NaN</td>\n",
              "      <td>NaN</td>\n",
              "    </tr>\n",
              "    <tr>\n",
              "      <th>2</th>\n",
              "      <td>1677493941397348567</td>\n",
              "      <td>-0.012439</td>\n",
              "      <td>0.011413</td>\n",
              "      <td>0.013736</td>\n",
              "      <td>0.112611</td>\n",
              "      <td>0.005228</td>\n",
              "      <td>0.029511</td>\n",
              "      <td>0.024058</td>\n",
              "      <td>0.955237</td>\n",
              "      <td>NaN</td>\n",
              "      <td>NaN</td>\n",
              "      <td>NaN</td>\n",
              "      <td>NaN</td>\n",
              "      <td>NaN</td>\n",
              "    </tr>\n",
              "    <tr>\n",
              "      <th>3</th>\n",
              "      <td>1677493941402288567</td>\n",
              "      <td>-0.012777</td>\n",
              "      <td>0.012701</td>\n",
              "      <td>0.017620</td>\n",
              "      <td>0.115340</td>\n",
              "      <td>0.002419</td>\n",
              "      <td>0.037189</td>\n",
              "      <td>0.023557</td>\n",
              "      <td>0.950335</td>\n",
              "      <td>NaN</td>\n",
              "      <td>NaN</td>\n",
              "      <td>NaN</td>\n",
              "      <td>NaN</td>\n",
              "      <td>NaN</td>\n",
              "    </tr>\n",
              "    <tr>\n",
              "      <th>4</th>\n",
              "      <td>1677493941407228567</td>\n",
              "      <td>-0.013454</td>\n",
              "      <td>0.013989</td>\n",
              "      <td>0.018175</td>\n",
              "      <td>0.094029</td>\n",
              "      <td>0.004059</td>\n",
              "      <td>0.040588</td>\n",
              "      <td>0.023195</td>\n",
              "      <td>0.945425</td>\n",
              "      <td>NaN</td>\n",
              "      <td>NaN</td>\n",
              "      <td>NaN</td>\n",
              "      <td>NaN</td>\n",
              "      <td>NaN</td>\n",
              "    </tr>\n",
              "  </tbody>\n",
              "</table>\n",
              "</div>\n",
              "      <button class=\"colab-df-convert\" onclick=\"convertToInteractive('df-d39b342a-0149-4370-99bf-d742f9290aa1')\"\n",
              "              title=\"Convert this dataframe to an interactive table.\"\n",
              "              style=\"display:none;\">\n",
              "        \n",
              "  <svg xmlns=\"http://www.w3.org/2000/svg\" height=\"24px\"viewBox=\"0 0 24 24\"\n",
              "       width=\"24px\">\n",
              "    <path d=\"M0 0h24v24H0V0z\" fill=\"none\"/>\n",
              "    <path d=\"M18.56 5.44l.94 2.06.94-2.06 2.06-.94-2.06-.94-.94-2.06-.94 2.06-2.06.94zm-11 1L8.5 8.5l.94-2.06 2.06-.94-2.06-.94L8.5 2.5l-.94 2.06-2.06.94zm10 10l.94 2.06.94-2.06 2.06-.94-2.06-.94-.94-2.06-.94 2.06-2.06.94z\"/><path d=\"M17.41 7.96l-1.37-1.37c-.4-.4-.92-.59-1.43-.59-.52 0-1.04.2-1.43.59L10.3 9.45l-7.72 7.72c-.78.78-.78 2.05 0 2.83L4 21.41c.39.39.9.59 1.41.59.51 0 1.02-.2 1.41-.59l7.78-7.78 2.81-2.81c.8-.78.8-2.07 0-2.86zM5.41 20L4 18.59l7.72-7.72 1.47 1.35L5.41 20z\"/>\n",
              "  </svg>\n",
              "      </button>\n",
              "      \n",
              "  <style>\n",
              "    .colab-df-container {\n",
              "      display:flex;\n",
              "      flex-wrap:wrap;\n",
              "      gap: 12px;\n",
              "    }\n",
              "\n",
              "    .colab-df-convert {\n",
              "      background-color: #E8F0FE;\n",
              "      border: none;\n",
              "      border-radius: 50%;\n",
              "      cursor: pointer;\n",
              "      display: none;\n",
              "      fill: #1967D2;\n",
              "      height: 32px;\n",
              "      padding: 0 0 0 0;\n",
              "      width: 32px;\n",
              "    }\n",
              "\n",
              "    .colab-df-convert:hover {\n",
              "      background-color: #E2EBFA;\n",
              "      box-shadow: 0px 1px 2px rgba(60, 64, 67, 0.3), 0px 1px 3px 1px rgba(60, 64, 67, 0.15);\n",
              "      fill: #174EA6;\n",
              "    }\n",
              "\n",
              "    [theme=dark] .colab-df-convert {\n",
              "      background-color: #3B4455;\n",
              "      fill: #D2E3FC;\n",
              "    }\n",
              "\n",
              "    [theme=dark] .colab-df-convert:hover {\n",
              "      background-color: #434B5C;\n",
              "      box-shadow: 0px 1px 3px 1px rgba(0, 0, 0, 0.15);\n",
              "      filter: drop-shadow(0px 1px 2px rgba(0, 0, 0, 0.3));\n",
              "      fill: #FFFFFF;\n",
              "    }\n",
              "  </style>\n",
              "\n",
              "      <script>\n",
              "        const buttonEl =\n",
              "          document.querySelector('#df-d39b342a-0149-4370-99bf-d742f9290aa1 button.colab-df-convert');\n",
              "        buttonEl.style.display =\n",
              "          google.colab.kernel.accessAllowed ? 'block' : 'none';\n",
              "\n",
              "        async function convertToInteractive(key) {\n",
              "          const element = document.querySelector('#df-d39b342a-0149-4370-99bf-d742f9290aa1');\n",
              "          const dataTable =\n",
              "            await google.colab.kernel.invokeFunction('convertToInteractive',\n",
              "                                                     [key], {});\n",
              "          if (!dataTable) return;\n",
              "\n",
              "          const docLinkHtml = 'Like what you see? Visit the ' +\n",
              "            '<a target=\"_blank\" href=https://colab.research.google.com/notebooks/data_table.ipynb>data table notebook</a>'\n",
              "            + ' to learn more about interactive tables.';\n",
              "          element.innerHTML = '';\n",
              "          dataTable['output_type'] = 'display_data';\n",
              "          await google.colab.output.renderOutput(dataTable, element);\n",
              "          const docLink = document.createElement('div');\n",
              "          docLink.innerHTML = docLinkHtml;\n",
              "          element.appendChild(docLink);\n",
              "        }\n",
              "      </script>\n",
              "    </div>\n",
              "  </div>\n",
              "  "
            ]
          },
          "metadata": {},
          "execution_count": 109
        }
      ]
    },
    {
      "cell_type": "code",
      "source": [
        "imu_kd_tree= df_imu_main[[\"gyro x [deg/s]\",\"gyro y [deg/s]\", \"gyro z [deg/s]\"]]"
      ],
      "metadata": {
        "id": "XQXSNXXk6JVZ"
      },
      "execution_count": 136,
      "outputs": []
    },
    {
      "cell_type": "code",
      "source": [
        "imu_kd_tree.head()"
      ],
      "metadata": {
        "colab": {
          "base_uri": "https://localhost:8080/",
          "height": 206
        },
        "id": "5Xh725X16j60",
        "outputId": "97dda617-0fbd-49a2-9e9b-97febee969fb"
      },
      "execution_count": 138,
      "outputs": [
        {
          "output_type": "execute_result",
          "data": {
            "text/plain": [
              "   gyro x [deg/s]  gyro y [deg/s]  gyro z [deg/s]\n",
              "0       -0.013454        0.007549        0.009296\n",
              "1       -0.012439        0.009696        0.011516\n",
              "2       -0.012439        0.011413        0.013736\n",
              "3       -0.012777        0.012701        0.017620\n",
              "4       -0.013454        0.013989        0.018175"
            ],
            "text/html": [
              "\n",
              "  <div id=\"df-854a75bc-d1f6-429e-929f-6c9e1770c138\">\n",
              "    <div class=\"colab-df-container\">\n",
              "      <div>\n",
              "<style scoped>\n",
              "    .dataframe tbody tr th:only-of-type {\n",
              "        vertical-align: middle;\n",
              "    }\n",
              "\n",
              "    .dataframe tbody tr th {\n",
              "        vertical-align: top;\n",
              "    }\n",
              "\n",
              "    .dataframe thead th {\n",
              "        text-align: right;\n",
              "    }\n",
              "</style>\n",
              "<table border=\"1\" class=\"dataframe\">\n",
              "  <thead>\n",
              "    <tr style=\"text-align: right;\">\n",
              "      <th></th>\n",
              "      <th>gyro x [deg/s]</th>\n",
              "      <th>gyro y [deg/s]</th>\n",
              "      <th>gyro z [deg/s]</th>\n",
              "    </tr>\n",
              "  </thead>\n",
              "  <tbody>\n",
              "    <tr>\n",
              "      <th>0</th>\n",
              "      <td>-0.013454</td>\n",
              "      <td>0.007549</td>\n",
              "      <td>0.009296</td>\n",
              "    </tr>\n",
              "    <tr>\n",
              "      <th>1</th>\n",
              "      <td>-0.012439</td>\n",
              "      <td>0.009696</td>\n",
              "      <td>0.011516</td>\n",
              "    </tr>\n",
              "    <tr>\n",
              "      <th>2</th>\n",
              "      <td>-0.012439</td>\n",
              "      <td>0.011413</td>\n",
              "      <td>0.013736</td>\n",
              "    </tr>\n",
              "    <tr>\n",
              "      <th>3</th>\n",
              "      <td>-0.012777</td>\n",
              "      <td>0.012701</td>\n",
              "      <td>0.017620</td>\n",
              "    </tr>\n",
              "    <tr>\n",
              "      <th>4</th>\n",
              "      <td>-0.013454</td>\n",
              "      <td>0.013989</td>\n",
              "      <td>0.018175</td>\n",
              "    </tr>\n",
              "  </tbody>\n",
              "</table>\n",
              "</div>\n",
              "      <button class=\"colab-df-convert\" onclick=\"convertToInteractive('df-854a75bc-d1f6-429e-929f-6c9e1770c138')\"\n",
              "              title=\"Convert this dataframe to an interactive table.\"\n",
              "              style=\"display:none;\">\n",
              "        \n",
              "  <svg xmlns=\"http://www.w3.org/2000/svg\" height=\"24px\"viewBox=\"0 0 24 24\"\n",
              "       width=\"24px\">\n",
              "    <path d=\"M0 0h24v24H0V0z\" fill=\"none\"/>\n",
              "    <path d=\"M18.56 5.44l.94 2.06.94-2.06 2.06-.94-2.06-.94-.94-2.06-.94 2.06-2.06.94zm-11 1L8.5 8.5l.94-2.06 2.06-.94-2.06-.94L8.5 2.5l-.94 2.06-2.06.94zm10 10l.94 2.06.94-2.06 2.06-.94-2.06-.94-.94-2.06-.94 2.06-2.06.94z\"/><path d=\"M17.41 7.96l-1.37-1.37c-.4-.4-.92-.59-1.43-.59-.52 0-1.04.2-1.43.59L10.3 9.45l-7.72 7.72c-.78.78-.78 2.05 0 2.83L4 21.41c.39.39.9.59 1.41.59.51 0 1.02-.2 1.41-.59l7.78-7.78 2.81-2.81c.8-.78.8-2.07 0-2.86zM5.41 20L4 18.59l7.72-7.72 1.47 1.35L5.41 20z\"/>\n",
              "  </svg>\n",
              "      </button>\n",
              "      \n",
              "  <style>\n",
              "    .colab-df-container {\n",
              "      display:flex;\n",
              "      flex-wrap:wrap;\n",
              "      gap: 12px;\n",
              "    }\n",
              "\n",
              "    .colab-df-convert {\n",
              "      background-color: #E8F0FE;\n",
              "      border: none;\n",
              "      border-radius: 50%;\n",
              "      cursor: pointer;\n",
              "      display: none;\n",
              "      fill: #1967D2;\n",
              "      height: 32px;\n",
              "      padding: 0 0 0 0;\n",
              "      width: 32px;\n",
              "    }\n",
              "\n",
              "    .colab-df-convert:hover {\n",
              "      background-color: #E2EBFA;\n",
              "      box-shadow: 0px 1px 2px rgba(60, 64, 67, 0.3), 0px 1px 3px 1px rgba(60, 64, 67, 0.15);\n",
              "      fill: #174EA6;\n",
              "    }\n",
              "\n",
              "    [theme=dark] .colab-df-convert {\n",
              "      background-color: #3B4455;\n",
              "      fill: #D2E3FC;\n",
              "    }\n",
              "\n",
              "    [theme=dark] .colab-df-convert:hover {\n",
              "      background-color: #434B5C;\n",
              "      box-shadow: 0px 1px 3px 1px rgba(0, 0, 0, 0.15);\n",
              "      filter: drop-shadow(0px 1px 2px rgba(0, 0, 0, 0.3));\n",
              "      fill: #FFFFFF;\n",
              "    }\n",
              "  </style>\n",
              "\n",
              "      <script>\n",
              "        const buttonEl =\n",
              "          document.querySelector('#df-854a75bc-d1f6-429e-929f-6c9e1770c138 button.colab-df-convert');\n",
              "        buttonEl.style.display =\n",
              "          google.colab.kernel.accessAllowed ? 'block' : 'none';\n",
              "\n",
              "        async function convertToInteractive(key) {\n",
              "          const element = document.querySelector('#df-854a75bc-d1f6-429e-929f-6c9e1770c138');\n",
              "          const dataTable =\n",
              "            await google.colab.kernel.invokeFunction('convertToInteractive',\n",
              "                                                     [key], {});\n",
              "          if (!dataTable) return;\n",
              "\n",
              "          const docLinkHtml = 'Like what you see? Visit the ' +\n",
              "            '<a target=\"_blank\" href=https://colab.research.google.com/notebooks/data_table.ipynb>data table notebook</a>'\n",
              "            + ' to learn more about interactive tables.';\n",
              "          element.innerHTML = '';\n",
              "          dataTable['output_type'] = 'display_data';\n",
              "          await google.colab.output.renderOutput(dataTable, element);\n",
              "          const docLink = document.createElement('div');\n",
              "          docLink.innerHTML = docLinkHtml;\n",
              "          element.appendChild(docLink);\n",
              "        }\n",
              "      </script>\n",
              "    </div>\n",
              "  </div>\n",
              "  "
            ]
          },
          "metadata": {},
          "execution_count": 138
        }
      ]
    },
    {
      "cell_type": "code",
      "source": [
        "TimeStamp = df_imu_main['timestamp [ns]']"
      ],
      "metadata": {
        "id": "J16KCi0QV0jZ"
      },
      "execution_count": 110,
      "outputs": []
    },
    {
      "cell_type": "code",
      "source": [
        "df_imu_main['timestamp [ns]'].min()"
      ],
      "metadata": {
        "colab": {
          "base_uri": "https://localhost:8080/"
        },
        "id": "f5FK3oHEYw0X",
        "outputId": "4cb6fda4-1622-4ad0-9f88-24af17afcecc"
      },
      "execution_count": 111,
      "outputs": [
        {
          "output_type": "execute_result",
          "data": {
            "text/plain": [
              "1677493941387468567"
            ]
          },
          "metadata": {},
          "execution_count": 111
        }
      ]
    },
    {
      "cell_type": "code",
      "source": [
        "print(TimeStamp[0])"
      ],
      "metadata": {
        "colab": {
          "base_uri": "https://localhost:8080/"
        },
        "id": "keLpyUH23PWQ",
        "outputId": "1672b408-18d2-4984-b6a1-c76bd39046e4"
      },
      "execution_count": 112,
      "outputs": [
        {
          "output_type": "stream",
          "name": "stdout",
          "text": [
            "1677493941387468567\n"
          ]
        }
      ]
    },
    {
      "cell_type": "code",
      "source": [
        "for i in range(len(TimeStamp)):\n",
        "  TimeStamp[i] = TimeStamp[i]-1677493941387468567\n",
        "  TimeStamp[i]= TimeStamp[i]/1000000"
      ],
      "metadata": {
        "colab": {
          "base_uri": "https://localhost:8080/"
        },
        "id": "cmK_CsACWIdf",
        "outputId": "8eedb8d8-689d-4cde-bf12-f4837e624fa2"
      },
      "execution_count": 113,
      "outputs": [
        {
          "output_type": "stream",
          "name": "stderr",
          "text": [
            "<ipython-input-113-f27afe39b52d>:2: SettingWithCopyWarning: \n",
            "A value is trying to be set on a copy of a slice from a DataFrame\n",
            "\n",
            "See the caveats in the documentation: https://pandas.pydata.org/pandas-docs/stable/user_guide/indexing.html#returning-a-view-versus-a-copy\n",
            "  TimeStamp[i] = TimeStamp[i]-1677493941387468567\n",
            "<ipython-input-113-f27afe39b52d>:3: SettingWithCopyWarning: \n",
            "A value is trying to be set on a copy of a slice from a DataFrame\n",
            "\n",
            "See the caveats in the documentation: https://pandas.pydata.org/pandas-docs/stable/user_guide/indexing.html#returning-a-view-versus-a-copy\n",
            "  TimeStamp[i]= TimeStamp[i]/1000000\n"
          ]
        }
      ]
    },
    {
      "cell_type": "code",
      "source": [
        "print(TimeStamp[1],TimeStamp[2])"
      ],
      "metadata": {
        "colab": {
          "base_uri": "https://localhost:8080/"
        },
        "id": "CGuG0PRZ22Hu",
        "outputId": "78fb66e8-6a51-43d5-a28d-4accc221b893"
      },
      "execution_count": 114,
      "outputs": [
        {
          "output_type": "stream",
          "name": "stdout",
          "text": [
            "4.94 9.880064\n"
          ]
        }
      ]
    },
    {
      "cell_type": "code",
      "source": [
        "print(TimeStamp[1],TimeStamp[2])"
      ],
      "metadata": {
        "colab": {
          "base_uri": "https://localhost:8080/"
        },
        "id": "cgz8aUHQW2-B",
        "outputId": "c4c43e32-c809-47a2-aae4-a4fa236df42c"
      },
      "execution_count": 115,
      "outputs": [
        {
          "output_type": "stream",
          "name": "stdout",
          "text": [
            "4.94 9.880064\n"
          ]
        }
      ]
    },
    {
      "cell_type": "code",
      "source": [
        "startTime , endTime = 19.2 -coversation1_offset , 24.91-coversation1_offset"
      ],
      "metadata": {
        "id": "F8NNeKp-q8j1"
      },
      "execution_count": 129,
      "outputs": []
    },
    {
      "cell_type": "code",
      "source": [
        "print(startTime, endTime)"
      ],
      "metadata": {
        "colab": {
          "base_uri": "https://localhost:8080/"
        },
        "id": "-hU8oVFHusbo",
        "outputId": "08134760-7a89-496d-d8c1-ac396122dfda"
      },
      "execution_count": 130,
      "outputs": [
        {
          "output_type": "stream",
          "name": "stdout",
          "text": [
            "16.7012975 22.4112975\n"
          ]
        }
      ]
    },
    {
      "cell_type": "code",
      "source": [
        "print(TimeStamp)"
      ],
      "metadata": {
        "colab": {
          "base_uri": "https://localhost:8080/"
        },
        "id": "oNUb2m9p4IBD",
        "outputId": "9d0c8d06-d483-4790-859b-7681de238a41"
      },
      "execution_count": 131,
      "outputs": [
        {
          "output_type": "stream",
          "name": "stdout",
          "text": [
            "0             0.000000\n",
            "1             4.940000\n",
            "2             9.880064\n",
            "3            14.820096\n",
            "4            19.760128\n",
            "             ...      \n",
            "62780    311378.948096\n",
            "62781    311383.908096\n",
            "62782    311388.868096\n",
            "62783    311393.828096\n",
            "62784    311398.788096\n",
            "Name: timestamp [ns], Length: 62785, dtype: float64\n"
          ]
        }
      ]
    },
    {
      "cell_type": "code",
      "source": [
        "index = []\n",
        "for i in range(len(TimeStamp)):\n",
        "  if TimeStamp[i]>startTime and TimeStamp[i]<endTime:\n",
        "    index.append(i)\n",
        "  "
      ],
      "metadata": {
        "id": "AxtwzYObu7Jr"
      },
      "execution_count": 132,
      "outputs": []
    },
    {
      "cell_type": "code",
      "source": [
        "q = imu_kd_tree[4:5]\n",
        "print(q)"
      ],
      "metadata": {
        "colab": {
          "base_uri": "https://localhost:8080/"
        },
        "id": "H6RvZQQG7jpc",
        "outputId": "0fefeb76-e3ee-4f74-a2cd-c5a0e542f8c5"
      },
      "execution_count": 148,
      "outputs": [
        {
          "output_type": "stream",
          "name": "stdout",
          "text": [
            "   gyro x [deg/s]  gyro y [deg/s]  gyro z [deg/s]\n",
            "4       -0.013454        0.013989        0.018175\n"
          ]
        }
      ]
    },
    {
      "cell_type": "code",
      "source": [
        "kd_tree = KDTree(imu_kd_tree, leaf_size=2)"
      ],
      "metadata": {
        "id": "6uxegFXh51Ky"
      },
      "execution_count": 139,
      "outputs": []
    },
    {
      "cell_type": "code",
      "source": [
        "dist, ind = tree.query(q, k=3)   "
      ],
      "metadata": {
        "id": "VfivEr_N6qfm"
      },
      "execution_count": 145,
      "outputs": []
    },
    {
      "cell_type": "code",
      "source": [
        "print(dist, ind)"
      ],
      "metadata": {
        "colab": {
          "base_uri": "https://localhost:8080/"
        },
        "id": "vPNwfjXv7zmZ",
        "outputId": "1093deab-f15f-4b38-e246-98155de955ab"
      },
      "execution_count": 146,
      "outputs": [
        {
          "output_type": "stream",
          "name": "stdout",
          "text": [
            "[[0.65177637 0.8206555  0.93466398]] [[8 5 1]]\n"
          ]
        }
      ]
    }
  ]
}